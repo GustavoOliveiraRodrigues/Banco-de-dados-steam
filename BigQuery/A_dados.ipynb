{
 "cells": [
  {
   "cell_type": "markdown",
   "metadata": {},
   "source": [
    "Bibliotecas"
   ]
  },
  {
   "cell_type": "code",
   "execution_count": null,
   "metadata": {},
   "outputs": [],
   "source": [
    "import pandas as pd\n",
    "import pandas_gbq\n",
    "from google.cloud import bigquery\n",
    "import os\n",
    "from google.oauth2 import service_account \n",
    "\n",
    "os.environ['GOOGLE_APPLICATION_CREDENTIALS'] = 'G:\\Vscode projetos\\steamdb\\Segurança\\sdb.json'\n",
    "\n",
    "client = bigquery.Client()\n",
    "\n",
    "def carregandoDados(query):\n",
    "    query_job = client.query(query)\n",
    "    df = query_job.to_dataframe()\n",
    "    return df\n"
   ]
  },
  {
   "cell_type": "markdown",
   "metadata": {},
   "source": [
    "Subindo dados"
   ]
  },
  {
   "cell_type": "code",
   "execution_count": null,
   "metadata": {},
   "outputs": [],
   "source": [
    "#C_li\n",
    "# Defina o ID do dataset e da tabela\n",
    "dataset_id = 'base'\n",
    "table_id = 'reviews'\n",
    "\n",
    "# Defina o esquema da tabela\n",
    "schema = [\n",
    "    bigquery.SchemaField(\"app_id\", \"INTEGER\"),\n",
    "    bigquery.SchemaField(\"Nome\", \"STRING\"),\n",
    "    bigquery.SchemaField(\"positive_reviews\", \"INTEGER\"),\n",
    "    bigquery.SchemaField(\"negative_reviews\", \"INTEGER\"),\n",
    "    bigquery.SchemaField(\"percentage_reviews\", \"FLOAT\"),\n",
    "]\n",
    "\n",
    "# Configuração do job de carregamento\n",
    "job_config = bigquery.LoadJobConfig(\n",
    "    schema=schema,\n",
    "    source_format=bigquery.SourceFormat.CSV,\n",
    "    skip_leading_rows=1,\n",
    "    field_delimiter=',',\n",
    "    encoding='UTF-8'\n",
    "    write_disposition=bigquery.WriteDisposition.WRITE_APPEND\n",
    ")\n",
    "\n",
    "# Caminho do arquivo CSV\n",
    "file_path = r'G:\\Vscode projetos\\steamdb\\coleta_de_dados\\c_li.csv'\n",
    "\n",
    "# Referencie o dataset e a tabela\n",
    "dataset_ref = client.dataset(dataset_id)\n",
    "table_ref = dataset_ref.table(table_id)\n",
    "\n",
    "# Carregue o arquivo CSV\n",
    "with open(file_path, 'rb') as source_file:\n",
    "    load_job = client.load_table_from_file(source_file, table_ref, job_config=job_config)\n",
    "\n",
    "# Espere o job completar\n",
    "load_job.result()\n",
    "\n",
    "print(f'Os dados foram carregados para {table_id}.')"
   ]
  },
  {
   "cell_type": "code",
   "execution_count": null,
   "metadata": {},
   "outputs": [],
   "source": [
    "#C_tr\n",
    "dataset_id = 'base'\n",
    "table_id = 'information'\n",
    "\n",
    "# Defina o esquema da tabela\n",
    "schema = [\n",
    "    bigquery.SchemaField(\"app_id\", \"INTEGER\"),\n",
    "    bigquery.SchemaField(\"app_type\", \"STRING\"),\n",
    "    bigquery.SchemaField(\"developer\", \"STRING\"),\n",
    "    bigquery.SchemaField(\"publisher\", \"STRING\"),\n",
    "    bigquery.SchemaField(\"release_date\", \"STRING\")\n",
    "]\n",
    "\n",
    "# Configuração do job de carregamento\n",
    "job_config = bigquery.LoadJobConfig(\n",
    "    schema=schema,\n",
    "    source_format=bigquery.SourceFormat.CSV,\n",
    "    skip_leading_rows=1,\n",
    "    field_delimiter=',',\n",
    "    write_disposition=bigquery.WriteDisposition.WRITE_APPEND\n",
    ")\n",
    "\n",
    "# Caminho do arquivo CSV\n",
    "file_path = r'G:\\Vscode projetos\\steamdb\\coleta_de_dados\\c_tr.csv'\n",
    "\n",
    "# Referencie o dataset e a tabela\n",
    "dataset_ref = client.dataset(dataset_id)\n",
    "table_ref = dataset_ref.table(table_id)\n",
    "\n",
    "# Carregue o arquivo CSV\n",
    "with open(file_path, 'rb') as source_file:\n",
    "    load_job = client.load_table_from_file(source_file, table_ref, job_config=job_config)\n",
    "\n",
    "# Espere o job completar\n",
    "load_job.result()\n",
    "\n",
    "print(f'Os dados foram carregados para {table_id}.')"
   ]
  },
  {
   "cell_type": "code",
   "execution_count": null,
   "metadata": {},
   "outputs": [],
   "source": [
    "#c_span\n",
    "dataset_id = 'base'\n",
    "table_id = 'generos'\n",
    "\n",
    "# Defina o esquema da tabela\n",
    "schema = [\n",
    "    bigquery.SchemaField(\"app_id\", \"INTEGER\"),\n",
    "    bigquery.SchemaField(\"genres\", \"STRING\"),\n",
    "    bigquery.SchemaField(\"Nome\", \"STRING\")\n",
    "]\n",
    "\n",
    "# Configuração do job de carregamento\n",
    "job_config = bigquery.LoadJobConfig(\n",
    "    schema=schema,\n",
    "    source_format=bigquery.SourceFormat.CSV,\n",
    "    skip_leading_rows=1,\n",
    "    field_delimiter=',',\n",
    "    write_disposition=bigquery.WriteDisposition.WRITE_APPEND\n",
    ")\n",
    "\n",
    "# Caminho do arquivo CSV\n",
    "file_path = r'G:\\Vscode projetos\\steamdb\\coleta_de_dados\\c_span.csv'\n",
    "\n",
    "# Referencie o dataset e a tabela\n",
    "dataset_ref = client.dataset(dataset_id)\n",
    "table_ref = dataset_ref.table(table_id)\n",
    "\n",
    "# Carregue o arquivo CSV\n",
    "with open(file_path, 'rb') as source_file:\n",
    "    load_job = client.load_table_from_file(source_file, table_ref, job_config=job_config)\n",
    "\n",
    "# Espere o job completar\n",
    "load_job.result()\n",
    "\n",
    "print(f'Os dados foram carregados para {table_id}.')"
   ]
  },
  {
   "cell_type": "code",
   "execution_count": null,
   "metadata": {},
   "outputs": [],
   "source": [
    "#c_price\n",
    "dataset_id = 'base'\n",
    "table_id = 'price'\n",
    "\n",
    "# Defina o esquema da tabela\n",
    "schema = [\n",
    "    bigquery.SchemaField(\"app_id\", \"INTEGER\"),\n",
    "    bigquery.SchemaField(\"price\", \"FLOAT\"),\n",
    "]\n",
    "\n",
    "# Configuração do job de carregamento\n",
    "job_config = bigquery.LoadJobConfig(\n",
    "    schema=schema,\n",
    "    source_format=bigquery.SourceFormat.CSV,\n",
    "    skip_leading_rows=1,\n",
    "    field_delimiter=',',\n",
    "    write_disposition=bigquery.WriteDisposition.WRITE_APPEND\n",
    ")\n",
    "\n",
    "# Caminho do arquivo CSV\n",
    "file_path = r'G:\\Vscode projetos\\steamdb\\coleta_de_dados\\c_price.csv'\n",
    "\n",
    "# Referencie o dataset e a tabela\n",
    "dataset_ref = client.dataset(dataset_id)\n",
    "table_ref = dataset_ref.table(table_id)\n",
    "\n",
    "# Carregue o arquivo CSV\n",
    "with open(file_path, 'rb') as source_file:\n",
    "    load_job = client.load_table_from_file(source_file, table_ref, job_config=job_config)\n",
    "\n",
    "# Espere o job completar\n",
    "load_job.result()\n",
    "\n",
    "print(f'Os dados foram carregados para {table_id}.')"
   ]
  },
  {
   "cell_type": "markdown",
   "metadata": {},
   "source": [
    "Consulta tabelas"
   ]
  },
  {
   "cell_type": "markdown",
   "metadata": {},
   "source": [
    "Select"
   ]
  },
  {
   "cell_type": "code",
   "execution_count": null,
   "metadata": {},
   "outputs": [],
   "source": [
    "# Select\n",
    "extracao = '''\n",
    "    SELECT\n",
    "    bi.app_id,\n",
    "    br.Nome,\n",
    "    CASE\n",
    "    WHEN CAST(bp.price AS NUMERIC) IS NULL OR CAST(bp.price AS NUMERIC) = 0 THEN 'Gratuito'\n",
    "    ELSE FORMAT('%.2f', CAST(bp.price AS NUMERIC) / 100)\n",
    "    END as price,  \n",
    "    bi.app_type,\n",
    "    bg.genres,\n",
    "    bi.developer,\n",
    "    bi.publisher,\n",
    "    br.positive_reviews,\n",
    "    br.negative_reviews,\n",
    "    br.percentage_reviews,\n",
    "    Case\n",
    "    WHEN REGEXP_CONTAINS(release_date, r'^\\d{1,2} \\w+ \\d{4}$') THEN \n",
    "    FORMAT_DATETIME('%m/%d/%Y', PARSE_DATETIME('%d %B %Y', release_date))\n",
    "\n",
    "    WHEN REGEXP_CONTAINS(release_date, r'^\\w+ \\d{4}$') THEN \n",
    "    FORMAT_DATETIME('%m/%Y', PARSE_DATETIME('%B %Y', release_date))\n",
    "\n",
    "    WHEN REGEXP_CONTAINS(release_date, r'^\\d{4}$') THEN \n",
    "    release_date\n",
    "\n",
    "    ELSE NULL\n",
    "    END as release_data,\n",
    "    FROM\n",
    "    `base.information` as bi\n",
    "    LEFT JOIN `base.reviews` as br ON bi.app_id = br.app_id\n",
    "    LEFT JOIN `base.generos` as bg ON bi.app_id = bg.app_id\n",
    "    LEFT JOIN `base.price` as bp ON bi.app_id = bp.app_id\n",
    "    '''"
   ]
  },
  {
   "cell_type": "code",
   "execution_count": null,
   "metadata": {},
   "outputs": [],
   "source": [
    "df_tabela_extracao  = carregandoDados(extracao)\n"
   ]
  },
  {
   "cell_type": "markdown",
   "metadata": {},
   "source": [
    "Criação de tabelas"
   ]
  },
  {
   "cell_type": "code",
   "execution_count": 37,
   "metadata": {},
   "outputs": [],
   "source": [
    "df_tabela_extracao.to_csv ('extracaoBQ.csv',  index=False)"
   ]
  }
 ],
 "metadata": {
  "kernelspec": {
   "display_name": "Python 3",
   "language": "python",
   "name": "python3"
  },
  "language_info": {
   "codemirror_mode": {
    "name": "ipython",
    "version": 3
   },
   "file_extension": ".py",
   "mimetype": "text/x-python",
   "name": "python",
   "nbconvert_exporter": "python",
   "pygments_lexer": "ipython3",
   "version": "3.12.4"
  }
 },
 "nbformat": 4,
 "nbformat_minor": 2
}
